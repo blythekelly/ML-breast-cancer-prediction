{
  "nbformat": 4,
  "nbformat_minor": 0,
  "metadata": {
    "colab": {
      "provenance": []
    },
    "kernelspec": {
      "name": "python3",
      "display_name": "Python 3"
    },
    "language_info": {
      "name": "python"
    }
  },
  "cells": [
    {
      "cell_type": "markdown",
      "source": [
        "# Project \\#1 Starter Code: \n",
        "Your first step is to decide which dataset you would like to work with for this project. \n",
        "\n",
        "For this project, you will get to choose what dataset you use. The ones we've used in class (other than Iris/Titanic as they're pretty small) are all fair game (wine quality, breast cancer, spotify). \n",
        "\n",
        "Here are some other possibilities--Kaggle has many many more. It might be a good idea to double check with me before grabbing a dataset that's not listed here:\n",
        "- 🥑 [Avocado Prices](https://www.kaggle.com/datasets/neuromusic/avocado-prices)\n",
        "- 🎟️ [Admission to University](https://www.kaggle.com/datasets/akshaydattatraykhare/data-for-admission-in-the-university)\n",
        "- 🏎️ [Speed Dating](https://www.kaggle.com/datasets/whenamancodes/speed-dating)\n",
        "- 🎓 [World University Ranking](https://www.kaggle.com/datasets/whenamancodes/world-university-ranking-2022-2023)\n",
        "- 📸 [Top Instagram Influencers](https://www.kaggle.com/datasets/whenamancodes/top-200-influencers-crushing-on-instagram)\n",
        "- 🌦️ [Weather Prediction](https://www.kaggle.com/datasets/thedevastator/weather-prediction)\n",
        "- 🤑 [Student Monthly Expenses](https://www.kaggle.com/datasets/shariful07/nice-work-thanks-for-share)\n",
        "- 🍺 [Student Alcohol Consumption](https://www.kaggle.com/datasets/uciml/student-alcohol-consumption)\n",
        "- 🏫 [College Score Card](https://www.kaggle.com/datasets/thedevastator/u-s-department-of-education-college-scorecard-da)\n",
        "- 🎮 [IMDB Video Games](https://www.kaggle.com/datasets/muhammadadiltalay/imdb-video-games)\n",
        "- 🎵 [Spotify Recommendation](https://www.kaggle.com/datasets/bricevergnou/spotify-recommendation)"
      ],
      "metadata": {
        "id": "IJ5VE9AZJY1m"
      }
    },
    {
      "cell_type": "markdown",
      "source": [
        "# Self-Evaluation:\n",
        "\n",
        "| **Description/Writing** | **I think I deserve** |\n",
        "|-------------------------|-----------------------|\n",
        "| 1: Problem              | 2/2                   |\n",
        "| 2: Data Prep            | 2/2                   |\n",
        "| 3: Research             | 10/10                 |\n",
        "| 4: Analysis             | 10/10                 |\n",
        "| 5: Bumps in the Road.   | 1/1                   |\n",
        "| Total                   | 25/25                 |"
      ],
      "metadata": {
        "id": "DihlkGueJe2n"
      }
    },
    {
      "cell_type": "markdown",
      "source": [
        "#Predicting Breast Cancer Diagnosis\n",
        "####Blythe Kelly\n",
        "####CS 167: Machine Learning\n",
        "\n",
        "# 1. Problem:\n",
        "State the problem you are trying to solve with this machine learning experiment. Include a description of the data, where you got the data, and what you're trying to predict..\n",
        "\n",
        "##Data Description\n",
        "What features are attributes of a benign or malignant breast tumor? This machine learning experiment will attempt a solution for the problem of determining what features occur most frequently in breast tumors. My project uses data from a breast cancer dataset from Wisconsin to predict whether an individual has a benign or malignant tumor based on predictor variables. I retrieved this dataset from the course Blackboard page, and it includes data, such as 31 features that describe the characteristics of the tumors. Diagnosis was the target variable in this dataset that I am trying to predict. This aligned with a classification algorithm, as the outcomes of the diagnosis were either M (malignant) or B (benign). \n",
        "\n"
      ],
      "metadata": {
        "id": "u4xY_cKnPpjB"
      }
    },
    {
      "cell_type": "code",
      "execution_count": null,
      "metadata": {
        "colab": {
          "base_uri": "https://localhost:8080/",
          "height": 334
        },
        "id": "6_rxAhxtxwFO",
        "outputId": "dee68f76-9707-4c93-f031-d10ef098c3c8"
      },
      "outputs": [
        {
          "output_type": "stream",
          "name": "stdout",
          "text": [
            "Mounted at /content/drive\n"
          ]
        },
        {
          "output_type": "execute_result",
          "data": {
            "text/plain": [
              "         id diagnosis  radius_mean  texture_mean  perimeter_mean  area_mean  \\\n",
              "0    842302         M        17.99         10.38          122.80     1001.0   \n",
              "1    842517         M        20.57         17.77          132.90     1326.0   \n",
              "2  84300903         M        19.69         21.25          130.00     1203.0   \n",
              "3  84348301         M        11.42         20.38           77.58      386.1   \n",
              "4  84358402         M        20.29         14.34          135.10     1297.0   \n",
              "\n",
              "   smoothness_mean  compactness_mean  concavity_mean  concave points_mean  \\\n",
              "0          0.11840           0.27760          0.3001              0.14710   \n",
              "1          0.08474           0.07864          0.0869              0.07017   \n",
              "2          0.10960           0.15990          0.1974              0.12790   \n",
              "3          0.14250           0.28390          0.2414              0.10520   \n",
              "4          0.10030           0.13280          0.1980              0.10430   \n",
              "\n",
              "   ...  texture_worst  perimeter_worst  area_worst  smoothness_worst  \\\n",
              "0  ...          17.33           184.60      2019.0            0.1622   \n",
              "1  ...          23.41           158.80      1956.0            0.1238   \n",
              "2  ...          25.53           152.50      1709.0            0.1444   \n",
              "3  ...          26.50            98.87       567.7            0.2098   \n",
              "4  ...          16.67           152.20      1575.0            0.1374   \n",
              "\n",
              "   compactness_worst  concavity_worst  concave points_worst  symmetry_worst  \\\n",
              "0             0.6656           0.7119                0.2654          0.4601   \n",
              "1             0.1866           0.2416                0.1860          0.2750   \n",
              "2             0.4245           0.4504                0.2430          0.3613   \n",
              "3             0.8663           0.6869                0.2575          0.6638   \n",
              "4             0.2050           0.4000                0.1625          0.2364   \n",
              "\n",
              "   fractal_dimension_worst  Unnamed: 32  \n",
              "0                  0.11890          NaN  \n",
              "1                  0.08902          NaN  \n",
              "2                  0.08758          NaN  \n",
              "3                  0.17300          NaN  \n",
              "4                  0.07678          NaN  \n",
              "\n",
              "[5 rows x 33 columns]"
            ],
            "text/html": [
              "\n",
              "  <div id=\"df-15dbcdde-c509-4822-84c3-615765002f17\">\n",
              "    <div class=\"colab-df-container\">\n",
              "      <div>\n",
              "<style scoped>\n",
              "    .dataframe tbody tr th:only-of-type {\n",
              "        vertical-align: middle;\n",
              "    }\n",
              "\n",
              "    .dataframe tbody tr th {\n",
              "        vertical-align: top;\n",
              "    }\n",
              "\n",
              "    .dataframe thead th {\n",
              "        text-align: right;\n",
              "    }\n",
              "</style>\n",
              "<table border=\"1\" class=\"dataframe\">\n",
              "  <thead>\n",
              "    <tr style=\"text-align: right;\">\n",
              "      <th></th>\n",
              "      <th>id</th>\n",
              "      <th>diagnosis</th>\n",
              "      <th>radius_mean</th>\n",
              "      <th>texture_mean</th>\n",
              "      <th>perimeter_mean</th>\n",
              "      <th>area_mean</th>\n",
              "      <th>smoothness_mean</th>\n",
              "      <th>compactness_mean</th>\n",
              "      <th>concavity_mean</th>\n",
              "      <th>concave points_mean</th>\n",
              "      <th>...</th>\n",
              "      <th>texture_worst</th>\n",
              "      <th>perimeter_worst</th>\n",
              "      <th>area_worst</th>\n",
              "      <th>smoothness_worst</th>\n",
              "      <th>compactness_worst</th>\n",
              "      <th>concavity_worst</th>\n",
              "      <th>concave points_worst</th>\n",
              "      <th>symmetry_worst</th>\n",
              "      <th>fractal_dimension_worst</th>\n",
              "      <th>Unnamed: 32</th>\n",
              "    </tr>\n",
              "  </thead>\n",
              "  <tbody>\n",
              "    <tr>\n",
              "      <th>0</th>\n",
              "      <td>842302</td>\n",
              "      <td>M</td>\n",
              "      <td>17.99</td>\n",
              "      <td>10.38</td>\n",
              "      <td>122.80</td>\n",
              "      <td>1001.0</td>\n",
              "      <td>0.11840</td>\n",
              "      <td>0.27760</td>\n",
              "      <td>0.3001</td>\n",
              "      <td>0.14710</td>\n",
              "      <td>...</td>\n",
              "      <td>17.33</td>\n",
              "      <td>184.60</td>\n",
              "      <td>2019.0</td>\n",
              "      <td>0.1622</td>\n",
              "      <td>0.6656</td>\n",
              "      <td>0.7119</td>\n",
              "      <td>0.2654</td>\n",
              "      <td>0.4601</td>\n",
              "      <td>0.11890</td>\n",
              "      <td>NaN</td>\n",
              "    </tr>\n",
              "    <tr>\n",
              "      <th>1</th>\n",
              "      <td>842517</td>\n",
              "      <td>M</td>\n",
              "      <td>20.57</td>\n",
              "      <td>17.77</td>\n",
              "      <td>132.90</td>\n",
              "      <td>1326.0</td>\n",
              "      <td>0.08474</td>\n",
              "      <td>0.07864</td>\n",
              "      <td>0.0869</td>\n",
              "      <td>0.07017</td>\n",
              "      <td>...</td>\n",
              "      <td>23.41</td>\n",
              "      <td>158.80</td>\n",
              "      <td>1956.0</td>\n",
              "      <td>0.1238</td>\n",
              "      <td>0.1866</td>\n",
              "      <td>0.2416</td>\n",
              "      <td>0.1860</td>\n",
              "      <td>0.2750</td>\n",
              "      <td>0.08902</td>\n",
              "      <td>NaN</td>\n",
              "    </tr>\n",
              "    <tr>\n",
              "      <th>2</th>\n",
              "      <td>84300903</td>\n",
              "      <td>M</td>\n",
              "      <td>19.69</td>\n",
              "      <td>21.25</td>\n",
              "      <td>130.00</td>\n",
              "      <td>1203.0</td>\n",
              "      <td>0.10960</td>\n",
              "      <td>0.15990</td>\n",
              "      <td>0.1974</td>\n",
              "      <td>0.12790</td>\n",
              "      <td>...</td>\n",
              "      <td>25.53</td>\n",
              "      <td>152.50</td>\n",
              "      <td>1709.0</td>\n",
              "      <td>0.1444</td>\n",
              "      <td>0.4245</td>\n",
              "      <td>0.4504</td>\n",
              "      <td>0.2430</td>\n",
              "      <td>0.3613</td>\n",
              "      <td>0.08758</td>\n",
              "      <td>NaN</td>\n",
              "    </tr>\n",
              "    <tr>\n",
              "      <th>3</th>\n",
              "      <td>84348301</td>\n",
              "      <td>M</td>\n",
              "      <td>11.42</td>\n",
              "      <td>20.38</td>\n",
              "      <td>77.58</td>\n",
              "      <td>386.1</td>\n",
              "      <td>0.14250</td>\n",
              "      <td>0.28390</td>\n",
              "      <td>0.2414</td>\n",
              "      <td>0.10520</td>\n",
              "      <td>...</td>\n",
              "      <td>26.50</td>\n",
              "      <td>98.87</td>\n",
              "      <td>567.7</td>\n",
              "      <td>0.2098</td>\n",
              "      <td>0.8663</td>\n",
              "      <td>0.6869</td>\n",
              "      <td>0.2575</td>\n",
              "      <td>0.6638</td>\n",
              "      <td>0.17300</td>\n",
              "      <td>NaN</td>\n",
              "    </tr>\n",
              "    <tr>\n",
              "      <th>4</th>\n",
              "      <td>84358402</td>\n",
              "      <td>M</td>\n",
              "      <td>20.29</td>\n",
              "      <td>14.34</td>\n",
              "      <td>135.10</td>\n",
              "      <td>1297.0</td>\n",
              "      <td>0.10030</td>\n",
              "      <td>0.13280</td>\n",
              "      <td>0.1980</td>\n",
              "      <td>0.10430</td>\n",
              "      <td>...</td>\n",
              "      <td>16.67</td>\n",
              "      <td>152.20</td>\n",
              "      <td>1575.0</td>\n",
              "      <td>0.1374</td>\n",
              "      <td>0.2050</td>\n",
              "      <td>0.4000</td>\n",
              "      <td>0.1625</td>\n",
              "      <td>0.2364</td>\n",
              "      <td>0.07678</td>\n",
              "      <td>NaN</td>\n",
              "    </tr>\n",
              "  </tbody>\n",
              "</table>\n",
              "<p>5 rows × 33 columns</p>\n",
              "</div>\n",
              "      <button class=\"colab-df-convert\" onclick=\"convertToInteractive('df-15dbcdde-c509-4822-84c3-615765002f17')\"\n",
              "              title=\"Convert this dataframe to an interactive table.\"\n",
              "              style=\"display:none;\">\n",
              "        \n",
              "  <svg xmlns=\"http://www.w3.org/2000/svg\" height=\"24px\"viewBox=\"0 0 24 24\"\n",
              "       width=\"24px\">\n",
              "    <path d=\"M0 0h24v24H0V0z\" fill=\"none\"/>\n",
              "    <path d=\"M18.56 5.44l.94 2.06.94-2.06 2.06-.94-2.06-.94-.94-2.06-.94 2.06-2.06.94zm-11 1L8.5 8.5l.94-2.06 2.06-.94-2.06-.94L8.5 2.5l-.94 2.06-2.06.94zm10 10l.94 2.06.94-2.06 2.06-.94-2.06-.94-.94-2.06-.94 2.06-2.06.94z\"/><path d=\"M17.41 7.96l-1.37-1.37c-.4-.4-.92-.59-1.43-.59-.52 0-1.04.2-1.43.59L10.3 9.45l-7.72 7.72c-.78.78-.78 2.05 0 2.83L4 21.41c.39.39.9.59 1.41.59.51 0 1.02-.2 1.41-.59l7.78-7.78 2.81-2.81c.8-.78.8-2.07 0-2.86zM5.41 20L4 18.59l7.72-7.72 1.47 1.35L5.41 20z\"/>\n",
              "  </svg>\n",
              "      </button>\n",
              "      \n",
              "  <style>\n",
              "    .colab-df-container {\n",
              "      display:flex;\n",
              "      flex-wrap:wrap;\n",
              "      gap: 12px;\n",
              "    }\n",
              "\n",
              "    .colab-df-convert {\n",
              "      background-color: #E8F0FE;\n",
              "      border: none;\n",
              "      border-radius: 50%;\n",
              "      cursor: pointer;\n",
              "      display: none;\n",
              "      fill: #1967D2;\n",
              "      height: 32px;\n",
              "      padding: 0 0 0 0;\n",
              "      width: 32px;\n",
              "    }\n",
              "\n",
              "    .colab-df-convert:hover {\n",
              "      background-color: #E2EBFA;\n",
              "      box-shadow: 0px 1px 2px rgba(60, 64, 67, 0.3), 0px 1px 3px 1px rgba(60, 64, 67, 0.15);\n",
              "      fill: #174EA6;\n",
              "    }\n",
              "\n",
              "    [theme=dark] .colab-df-convert {\n",
              "      background-color: #3B4455;\n",
              "      fill: #D2E3FC;\n",
              "    }\n",
              "\n",
              "    [theme=dark] .colab-df-convert:hover {\n",
              "      background-color: #434B5C;\n",
              "      box-shadow: 0px 1px 3px 1px rgba(0, 0, 0, 0.15);\n",
              "      filter: drop-shadow(0px 1px 2px rgba(0, 0, 0, 0.3));\n",
              "      fill: #FFFFFF;\n",
              "    }\n",
              "  </style>\n",
              "\n",
              "      <script>\n",
              "        const buttonEl =\n",
              "          document.querySelector('#df-15dbcdde-c509-4822-84c3-615765002f17 button.colab-df-convert');\n",
              "        buttonEl.style.display =\n",
              "          google.colab.kernel.accessAllowed ? 'block' : 'none';\n",
              "\n",
              "        async function convertToInteractive(key) {\n",
              "          const element = document.querySelector('#df-15dbcdde-c509-4822-84c3-615765002f17');\n",
              "          const dataTable =\n",
              "            await google.colab.kernel.invokeFunction('convertToInteractive',\n",
              "                                                     [key], {});\n",
              "          if (!dataTable) return;\n",
              "\n",
              "          const docLinkHtml = 'Like what you see? Visit the ' +\n",
              "            '<a target=\"_blank\" href=https://colab.research.google.com/notebooks/data_table.ipynb>data table notebook</a>'\n",
              "            + ' to learn more about interactive tables.';\n",
              "          element.innerHTML = '';\n",
              "          dataTable['output_type'] = 'display_data';\n",
              "          await google.colab.output.renderOutput(dataTable, element);\n",
              "          const docLink = document.createElement('div');\n",
              "          docLink.innerHTML = docLinkHtml;\n",
              "          element.appendChild(docLink);\n",
              "        }\n",
              "      </script>\n",
              "    </div>\n",
              "  </div>\n",
              "  "
            ]
          },
          "metadata": {},
          "execution_count": 1
        }
      ],
      "source": [
        "# loading in the data and libraries needed for the project\n",
        "import sklearn\n",
        "import pandas as pd\n",
        "from sklearn import tree\n",
        "from sklearn.model_selection import train_test_split\n",
        "from sklearn import metrics\n",
        "from sklearn import neighbors\n",
        "from sklearn.preprocessing import StandardScaler\n",
        "\n",
        "from google.colab import drive\n",
        "drive.mount('/content/drive')\n",
        "cancer = pd.read_csv('/content/drive/MyDrive/CS167/Datasets/breast-cancer-wisconsin-data.csv')\n",
        "cancer.head()"
      ]
    },
    {
      "cell_type": "markdown",
      "source": [
        "# 2. Data Preparation\n",
        "Explain your data preparation. What did you have to do to get your data in shape for your experiments? Why are you certain that you data is clean and prepared for use in your algorithms?\n",
        "\n",
        "\n",
        "###Data cleaning\n",
        "To prepare my data, I checked for any null values that would affect the outcome of the experiment. I found that only one of the columns in the data frame had null values. Because the column appeared to be an error and not necessary data, I dropped the entire column from the dataset in place toget my data in shape. After this, I re-checked for null values in the columns and confirmed none remained. I also observed that all of the columns were already numerical values, so I did not need to replace any with dummy variables. These qualities assured me that the dataset was cleaned and ready to be used in my algorithms."
      ],
      "metadata": {
        "id": "5Eyk8xkO9fk8"
      }
    },
    {
      "cell_type": "code",
      "source": [
        "cancer.isna().any()"
      ],
      "metadata": {
        "colab": {
          "base_uri": "https://localhost:8080/"
        },
        "id": "T7JrtsvbyeWe",
        "outputId": "8233172d-6ab6-4fd7-da1f-55ffd6a53ea3"
      },
      "execution_count": null,
      "outputs": [
        {
          "output_type": "execute_result",
          "data": {
            "text/plain": [
              "id                         False\n",
              "diagnosis                  False\n",
              "radius_mean                False\n",
              "texture_mean               False\n",
              "perimeter_mean             False\n",
              "area_mean                  False\n",
              "smoothness_mean            False\n",
              "compactness_mean           False\n",
              "concavity_mean             False\n",
              "concave points_mean        False\n",
              "symmetry_mean              False\n",
              "fractal_dimension_mean     False\n",
              "radius_se                  False\n",
              "texture_se                 False\n",
              "perimeter_se               False\n",
              "area_se                    False\n",
              "smoothness_se              False\n",
              "compactness_se             False\n",
              "concavity_se               False\n",
              "concave points_se          False\n",
              "symmetry_se                False\n",
              "fractal_dimension_se       False\n",
              "radius_worst               False\n",
              "texture_worst              False\n",
              "perimeter_worst            False\n",
              "area_worst                 False\n",
              "smoothness_worst           False\n",
              "compactness_worst          False\n",
              "concavity_worst            False\n",
              "concave points_worst       False\n",
              "symmetry_worst             False\n",
              "fractal_dimension_worst    False\n",
              "dtype: bool"
            ]
          },
          "metadata": {},
          "execution_count": 6
        }
      ]
    },
    {
      "cell_type": "code",
      "source": [
        "cancer.drop('Unnamed: 32', inplace=True, axis=1)\n",
        "cancer.isna().any()"
      ],
      "metadata": {
        "colab": {
          "base_uri": "https://localhost:8080/"
        },
        "id": "_KcwKsHfynwm",
        "outputId": "94713b48-391f-4780-d847-6dc31d6342c0"
      },
      "execution_count": null,
      "outputs": [
        {
          "output_type": "execute_result",
          "data": {
            "text/plain": [
              "id                         False\n",
              "diagnosis                  False\n",
              "radius_mean                False\n",
              "texture_mean               False\n",
              "perimeter_mean             False\n",
              "area_mean                  False\n",
              "smoothness_mean            False\n",
              "compactness_mean           False\n",
              "concavity_mean             False\n",
              "concave points_mean        False\n",
              "symmetry_mean              False\n",
              "fractal_dimension_mean     False\n",
              "radius_se                  False\n",
              "texture_se                 False\n",
              "perimeter_se               False\n",
              "area_se                    False\n",
              "smoothness_se              False\n",
              "compactness_se             False\n",
              "concavity_se               False\n",
              "concave points_se          False\n",
              "symmetry_se                False\n",
              "fractal_dimension_se       False\n",
              "radius_worst               False\n",
              "texture_worst              False\n",
              "perimeter_worst            False\n",
              "area_worst                 False\n",
              "smoothness_worst           False\n",
              "compactness_worst          False\n",
              "concavity_worst            False\n",
              "concave points_worst       False\n",
              "symmetry_worst             False\n",
              "fractal_dimension_worst    False\n",
              "dtype: bool"
            ]
          },
          "metadata": {},
          "execution_count": 3
        }
      ]
    },
    {
      "cell_type": "markdown",
      "source": [
        "# 3. Research\n",
        "\n",
        "Put your code and your experiments here.\n",
        "\n",
        "For full credit, your experiments should include the following models:\n",
        "- __k Nearest Neighbors__\n",
        "- __weighted k Nearest Neighbors__\n",
        "- __decision tree__\n",
        "- __random forest__ \n",
        "\n",
        "You need to demonstrate the performance of these models on both __normalized__ and __non-normalized__ data. \n",
        "\n",
        "For each of the above models, you need to include a __graph of at least 1 tuned parameter__. \n",
        "\n",
        "\n",
        "##Training the model\n",
        "From sklearn, I predicted the target variable, diagnosis, with a random forest classification algorithm. The metric I used to evaluate the predictions was accuracy, which was appropriate because the algorithm used classification. I also displayed a confusion matrix to investigate false positives and false negatives. After tuning parameters and normalizing the data, I recorded each accuracy rate and observed the confusion matrices to determine which algorithm performed the best.\n",
        "\n",
        "The random forest with 23 trees and a max depth of 7 produced the best accuracy of 96%. My alternative algorithms included a weighted 5-Nearest Neighbors classifier algorithm that had an accuracy of approximately 90%, an unweighted 16-Nearest Neighbors classifier algorithm with an accuracy of 91%, and a decision tree with a max depth of 3 that had an accuracy of approximately 94%. In all of the algorithms, normalizing the data always improved accuracy. This showed that all of the features included should have equal weight in the prediction and were all important to include. "
      ],
      "metadata": {
        "id": "peZa8mun9mU5"
      }
    },
    {
      "cell_type": "code",
      "source": [
        "#splitting the data\n",
        "target = 'diagnosis'\n",
        "predictors = cancer.columns.drop(target)\n",
        "\n",
        "train_data, test_data, train_sln, test_sln = train_test_split(cancer[predictors], cancer[target], test_size = 0.2, random_state=41)"
      ],
      "metadata": {
        "id": "djWjkUCCzl4B"
      },
      "execution_count": null,
      "outputs": []
    },
    {
      "cell_type": "markdown",
      "source": [
        "###Dummy Classifier\n",
        "To provide a baseline performance level, I used a dummy classifier that made predictions without acknowledging any input features. The accuracy of my dummy classifier was 51%."
      ],
      "metadata": {
        "id": "na5arnCvA7qi"
      }
    },
    {
      "cell_type": "code",
      "source": [
        "from sklearn.dummy import DummyClassifier\n",
        "\n",
        "dummy_clf = DummyClassifier(strategy='uniform')\n",
        "dummy_clf.fit(train_data, train_sln)\n",
        "preds = dummy_clf.predict(test_data)\n",
        "\n",
        "print('Accuracy: ', metrics.accuracy_score(test_sln, preds))"
      ],
      "metadata": {
        "colab": {
          "base_uri": "https://localhost:8080/"
        },
        "id": "MT62HO3VA9uS",
        "outputId": "d927c1f8-0db5-4edd-9133-7f59f1a948ca"
      },
      "execution_count": null,
      "outputs": [
        {
          "output_type": "stream",
          "name": "stdout",
          "text": [
            "Accuracy:  0.5087719298245614\n"
          ]
        }
      ]
    },
    {
      "cell_type": "markdown",
      "source": [
        "##Random Forest Algorithm\n",
        "\n"
      ],
      "metadata": {
        "id": "K4IlqSQ9HKsh"
      }
    },
    {
      "cell_type": "code",
      "source": [
        "from sklearn.metrics import ConfusionMatrixDisplay\n",
        "import matplotlib.pyplot as plt\n",
        "from sklearn import ensemble\n",
        "\n",
        "# Random Forest with  number of trees at 6 and max depth at 7\n",
        "dt=ensemble.RandomForestClassifier(n_estimators=6, max_depth=7)\n",
        "\n",
        "#Training the regression model\n",
        "dt.fit(train_data,train_sln)\n",
        "\n",
        "#Calling predict to generate predictions\n",
        "cancer_pred = dt.predict(test_data)\n",
        "\n",
        "#Calling an accuracy metric to measure performance\n",
        "print(\"Accuracy:\", metrics.accuracy_score(test_sln,cancer_pred))\n",
        "\n",
        "#Displaying a confusion matrix\n",
        "diagnosis_labels= cancer[target].unique()\n",
        "conf_mat = metrics.confusion_matrix(test_sln, cancer_pred, labels=diagnosis_labels)\n",
        "\n",
        "displ = ConfusionMatrixDisplay(confusion_matrix=conf_mat, display_labels=diagnosis_labels)\n",
        "displ.plot()\n",
        "plt.show()\n"
      ],
      "metadata": {
        "colab": {
          "base_uri": "https://localhost:8080/",
          "height": 296
        },
        "id": "Ta1Y_vSMMYNK",
        "outputId": "fd68c810-80aa-4e14-b0f8-ab852f772011"
      },
      "execution_count": null,
      "outputs": [
        {
          "output_type": "stream",
          "name": "stdout",
          "text": [
            "Accuracy: 0.9298245614035088\n"
          ]
        },
        {
          "output_type": "display_data",
          "data": {
            "text/plain": [
              "<Figure size 432x288 with 2 Axes>"
            ],
            "image/png": "[encoded data removed]"
          },
          "metadata": {
            "needs_background": "light"
          }
        }
      ]
    },
    {
      "cell_type": "markdown",
      "source": [
        "####Tuning Parameters\n",
        "On the random forest algorithm, I chose to tune the number of estimators (n_estimators) parameter with values between 1 and 300. I left the maximum depth constant at 7, so any changes in accuracy could be attributed solely to the tuned parameter. "
      ],
      "metadata": {
        "id": "vzjRHTChz5qv"
      }
    },
    {
      "cell_type": "code",
      "source": [
        "from sklearn import ensemble\n",
        "\n",
        "tree_list=[]\n",
        "acc_list=[]\n",
        "\n",
        "for i in range(1, 300):\n",
        "  dt=ensemble.RandomForestClassifier(n_estimators=i, max_depth=7)\n",
        "\n",
        "  #Training the regression model\n",
        "  dt.fit(train_data,train_sln)\n",
        "\n",
        "  #Calling predict to generate predictions\n",
        "  cancer_pred = dt.predict(test_data)\n",
        "\n",
        "  #Calling an accuracy metric to measure performance\n",
        "  acc_list.append(metrics.accuracy_score(test_sln,cancer_pred))\n",
        "  tree_list.append(i)\n",
        "\n"
      ],
      "metadata": {
        "id": "PDtxmUbXNYPX"
      },
      "execution_count": null,
      "outputs": []
    },
    {
      "cell_type": "code",
      "source": [
        "import matplotlib.pyplot as plt\n",
        "%matplotlib inline\n",
        "\n",
        "#graphing the data\n",
        "plt.suptitle('Number of Estimators and Accuracy',fontsize=18)\n",
        "plt.xlabel('Number of Estimators')\n",
        "plt.ylabel('Accuracy')\n",
        "plt.plot(tree_list, acc_list,'ro-')\n",
        "plt.axis([0,100,0, 1])\n",
        "\n",
        "plt.show()\n",
        "print(\"The best number of estimators is \",acc_list.index(max(acc_list))+1)"
      ],
      "metadata": {
        "colab": {
          "base_uri": "https://localhost:8080/",
          "height": 325
        },
        "id": "6ozrJGxIN9kO",
        "outputId": "d9d9db22-ea37-4fd4-e1b0-426829c887a6"
      },
      "execution_count": null,
      "outputs": [
        {
          "output_type": "display_data",
          "data": {
            "text/plain": [
              "<Figure size 432x288 with 1 Axes>"
            ],
            "image/png": "[encoded data removed]"
          },
          "metadata": {
            "needs_background": "light"
          }
        },
        {
          "output_type": "stream",
          "name": "stdout",
          "text": [
            "The best number of estimators is  23\n"
          ]
        }
      ]
    },
    {
      "cell_type": "code",
      "source": [
        "from sklearn.metrics import ConfusionMatrixDisplay\n",
        "import matplotlib.pyplot as plt\n",
        "from sklearn import ensemble\n",
        "\n",
        "# Random Forest with  number of trees at 23 and max depth at 7\n",
        "dt=ensemble.RandomForestClassifier(n_estimators=23, max_depth=7)\n",
        "\n",
        "#Training the regression model\n",
        "dt.fit(train_data,train_sln)\n",
        "\n",
        "#Calling predict to generate predictions\n",
        "cancer_pred = dt.predict(test_data)\n",
        "\n",
        "#Calling an accuracy metric to measure performance\n",
        "print(\"Accuracy:\", metrics.accuracy_score(test_sln,cancer_pred))\n",
        "\n",
        "#Displaying a confusion matrix\n",
        "diagnosis_labels= cancer[target].unique()\n",
        "conf_mat = metrics.confusion_matrix(test_sln, cancer_pred, labels=diagnosis_labels)\n",
        "\n",
        "displ = ConfusionMatrixDisplay(confusion_matrix=conf_mat, display_labels=diagnosis_labels)\n",
        "displ.plot()\n",
        "plt.show()\n"
      ],
      "metadata": {
        "colab": {
          "base_uri": "https://localhost:8080/",
          "height": 297
        },
        "id": "rb9jQ2dw2Bbe",
        "outputId": "e67beb51-ac54-41c6-9c24-6c246e417841"
      },
      "execution_count": null,
      "outputs": [
        {
          "output_type": "stream",
          "name": "stdout",
          "text": [
            "Accuracy: 0.956140350877193\n"
          ]
        },
        {
          "output_type": "display_data",
          "data": {
            "text/plain": [
              "<Figure size 432x288 with 2 Axes>"
            ],
            "image/png": "[encoded data removed]"
          },
          "metadata": {
            "needs_background": "light"
          }
        }
      ]
    },
    {
      "cell_type": "markdown",
      "source": [
        "####Feature Importances\n",
        "With the parameters tuned, I used sklearn's feature importances to display a bar chart detailing which features influenced the outcome the most. "
      ],
      "metadata": {
        "id": "VMqdQUWZz247"
      }
    },
    {
      "cell_type": "code",
      "source": [
        "# Checking the importance of the features used in the random forest algorithm\n",
        "\n",
        "import matplotlib.pyplot as plt\n",
        "import numpy as np\n",
        "from sklearn.ensemble import RandomForestClassifier\n",
        "%matplotlib inline\n",
        "\n",
        "\n",
        "#creating a list of numbers to use as the index and sorting so that the most important features are at the top\n",
        "index = range(len(predictors)) \n",
        "importances = dt.feature_importances_\n",
        "sorted_indices = np.argsort(importances)\n",
        "\n",
        "plt.figure(figsize=(8,10)) #changing the figure size\n",
        "plt.title('Breast Cancer Feature Importances')\n",
        "plt.barh(range(len(sorted_indices)),importances[sorted_indices],height=0.8) #horizontal bar chart\n",
        "plt.ylabel('Feature')\n",
        "plt.yticks(index,predictors) #putting the feature names on the y axis\n",
        "plt.xlabel(\"Random Forest Feature Importance\")\n",
        "plt.show()"
      ],
      "metadata": {
        "colab": {
          "base_uri": "https://localhost:8080/",
          "height": 621
        },
        "id": "tlJAAgs2BdGr",
        "outputId": "7807745c-6d58-4803-86e7-7c12bd94a57f"
      },
      "execution_count": null,
      "outputs": [
        {
          "output_type": "display_data",
          "data": {
            "text/plain": [
              "<Figure size 576x720 with 1 Axes>"
            ],
            "image/png": "[encoded data removed]"
          },
          "metadata": {
            "needs_background": "light"
          }
        }
      ]
    },
    {
      "cell_type": "markdown",
      "source": [
        "From the feature importance table, fractal_dimension_worst is the column that influences the predictions the most. Because this is a classification problem, I will use 6 predictor variables since the square root of the number of features, 31, is approximately 5.56. In this next decision tree, I use the top 6 columns from the feature importance chart as predictor variables, and the accuracy rate was 96%. "
      ],
      "metadata": {
        "id": "RlxnGi_6CjrX"
      }
    },
    {
      "cell_type": "code",
      "source": [
        "from sklearn.metrics import ConfusionMatrixDisplay\n",
        "import matplotlib.pyplot as plt\n",
        "from sklearn import ensemble\n",
        "\n",
        "target = 'diagnosis'\n",
        "predictors = ['fractal_dimension_worst', 'symmetry_worst', 'concave points_worst', 'concavity_worst', 'compactness_worst', 'smoothness_worst']\n",
        "\n",
        "train_data, test_data, train_sln, test_sln = train_test_split(cancer[predictors], cancer[target], test_size = 0.2, random_state=41)\n",
        "\n",
        "# Random Forest with  number of trees at 23 and max depth at 7\n",
        "dt=ensemble.RandomForestClassifier(n_estimators=23, max_depth=7)\n",
        "\n",
        "#Training the regression model\n",
        "dt.fit(train_data,train_sln)\n",
        "\n",
        "#Calling predict to generate predictions\n",
        "cancer_pred = dt.predict(test_data)\n",
        "\n",
        "#Calling an accuracy metric to measure performance\n",
        "print(\"Accuracy:\", metrics.accuracy_score(test_sln,cancer_pred))\n",
        "\n",
        "#Displaying a confusion matrix\n",
        "diagnosis_labels= cancer[target].unique()\n",
        "conf_mat = metrics.confusion_matrix(test_sln, cancer_pred, labels=diagnosis_labels)\n",
        "\n",
        "displ = ConfusionMatrixDisplay(confusion_matrix=conf_mat, display_labels=diagnosis_labels)\n",
        "displ.plot()\n",
        "plt.show()\n"
      ],
      "metadata": {
        "colab": {
          "base_uri": "https://localhost:8080/",
          "height": 297
        },
        "id": "UcGSnYdjDRzb",
        "outputId": "7ef851f6-cfb4-4323-c0e5-c29bb6aa8eb3"
      },
      "execution_count": null,
      "outputs": [
        {
          "output_type": "stream",
          "name": "stdout",
          "text": [
            "Accuracy: 0.9473684210526315\n"
          ]
        },
        {
          "output_type": "display_data",
          "data": {
            "text/plain": [
              "<Figure size 432x288 with 2 Axes>"
            ],
            "image/png": "[encoded data removed]"
          },
          "metadata": {
            "needs_background": "light"
          }
        }
      ]
    },
    {
      "cell_type": "markdown",
      "source": [
        "####Normalized Forest"
      ],
      "metadata": {
        "id": "UPTZt-xYwtj6"
      }
    },
    {
      "cell_type": "code",
      "source": [
        "from sklearn import preprocessing\n",
        "from sklearn import tree\n",
        "\n",
        "#Normalizing the data\n",
        "scaler=StandardScaler()\n",
        "\n",
        "scaler.fit(train_data)\n",
        "train_data_normalized = scaler.transform(train_data)\n",
        "test_data_normalized = scaler.transform(test_data)\n",
        "\n",
        "# Random Forest with  number of trees at 23 and max depth at 7\n",
        "dt=ensemble.RandomForestClassifier(n_estimators=23, max_depth=7)\n",
        "\n",
        "#Training the regression model\n",
        "dt.fit(train_data_normalized,train_sln)\n",
        "\n",
        "#Calling predict to generate predictions\n",
        "cancer_pred = dt.predict(test_data_normalized)\n",
        "\n",
        "#Calling an accuracy metric to measure performance\n",
        "print(\"Accuracy:\", metrics.accuracy_score(test_sln,cancer_pred))\n",
        "\n",
        "#Displaying a confusion matrix\n",
        "diagnosis_labels= cancer[target].unique()\n",
        "conf_mat = metrics.confusion_matrix(test_sln, cancer_pred, labels=diagnosis_labels)\n",
        "\n",
        "displ = ConfusionMatrixDisplay(confusion_matrix=conf_mat, display_labels=diagnosis_labels)\n",
        "displ.plot()\n",
        "plt.show()\n"
      ],
      "metadata": {
        "colab": {
          "base_uri": "https://localhost:8080/",
          "height": 297
        },
        "id": "-HfAdRBEwxR6",
        "outputId": "532dde9b-ee1b-47e0-838f-c6eff12234d8"
      },
      "execution_count": null,
      "outputs": [
        {
          "output_type": "stream",
          "name": "stdout",
          "text": [
            "Accuracy: 0.9649122807017544\n"
          ]
        },
        {
          "output_type": "display_data",
          "data": {
            "text/plain": [
              "<Figure size 432x288 with 2 Axes>"
            ],
            "image/png": "[encoded data removed]"
          },
          "metadata": {
            "needs_background": "light"
          }
        }
      ]
    },
    {
      "cell_type": "markdown",
      "source": [
        "##Weighted k-NN Algorithm"
      ],
      "metadata": {
        "id": "NA0VqIFpqgWj"
      }
    },
    {
      "cell_type": "code",
      "source": [
        "# weighted kNN with number of neighbors set to 10\n",
        "dt=neighbors.KNeighborsClassifier(n_neighbors=10, weights='distance')\n",
        "\n",
        "#Training the regression model\n",
        "dt.fit(train_data,train_sln)\n",
        "\n",
        "#Calling predict to generate predictions\n",
        "cancer_pred = dt.predict(test_data)\n",
        "\n",
        "#Calling a metric function to measure performance\n",
        "print(\"Accuracy:\", metrics.accuracy_score(test_sln,cancer_pred))\n",
        "\n",
        "#Displaying a confusion matrix\n",
        "diagnosis_labels= cancer[target].unique()\n",
        "conf_mat = metrics.confusion_matrix(test_sln, cancer_pred, labels=diagnosis_labels)\n",
        "\n",
        "displ = ConfusionMatrixDisplay(confusion_matrix=conf_mat, display_labels=diagnosis_labels)\n",
        "displ.plot()\n",
        "plt.show()"
      ],
      "metadata": {
        "colab": {
          "base_uri": "https://localhost:8080/",
          "height": 296
        },
        "id": "ZZ3tgXh9sIib",
        "outputId": "53ae1998-f02d-48fa-ae5d-4721c1fb0744"
      },
      "execution_count": null,
      "outputs": [
        {
          "output_type": "stream",
          "name": "stdout",
          "text": [
            "Accuracy: 0.8859649122807017\n"
          ]
        },
        {
          "output_type": "display_data",
          "data": {
            "text/plain": [
              "<Figure size 432x288 with 2 Axes>"
            ],
            "image/png": "[encoded data removed]"
          },
          "metadata": {
            "needs_background": "light"
          }
        }
      ]
    },
    {
      "cell_type": "markdown",
      "source": [
        "####Tuning parameters\n",
        "In this weighted k-Nearest Neighbors algorithm, I tuned the number of neighbors with values from 1 to 300. I chose this parameter because it improved accuracy when tuned, and it is an significant contributor to the predictions. "
      ],
      "metadata": {
        "id": "dWK11EtVsL_f"
      }
    },
    {
      "cell_type": "code",
      "source": [
        "k_list=[]\n",
        "acc_list=[]\n",
        "\n",
        "for i in range(1, 300):\n",
        "  # weighted kNN with number of neighbors set to i\n",
        "  dt=neighbors.KNeighborsClassifier(n_neighbors=i, weights='distance')\n",
        "\n",
        "  #Training the regression model\n",
        "  dt.fit(train_data,train_sln)\n",
        "\n",
        "  #Calling predict to generate predictions\n",
        "  cancer_pred = dt.predict(test_data)\n",
        "\n",
        "  #Calling an accuracy metric to measure performance\n",
        "  acc_list.append(metrics.accuracy_score(test_sln,cancer_pred))\n",
        "  k_list.append(i)"
      ],
      "metadata": {
        "id": "8CN-f4nkH0i-"
      },
      "execution_count": null,
      "outputs": []
    },
    {
      "cell_type": "code",
      "source": [
        "import matplotlib.pyplot as plt\n",
        "import numpy as np\n",
        "from sklearn.ensemble import RandomForestClassifier\n",
        "%matplotlib inline\n",
        "\n",
        "#graphing the data\n",
        "plt.suptitle('K-Nearest Neighbors and Accuracy',fontsize=18)\n",
        "plt.xlabel('K')\n",
        "plt.ylabel('Accuracy')\n",
        "plt.plot(k_list, acc_list,'ro-')\n",
        "plt.axis([0,100,0, 1])\n",
        "\n",
        "plt.show()\n",
        "print(\"The best number of neighbors is \",acc_list.index(max(acc_list))+1)"
      ],
      "metadata": {
        "colab": {
          "base_uri": "https://localhost:8080/",
          "height": 325
        },
        "id": "tQJFq3pKICIx",
        "outputId": "39673d95-9655-4df3-dd1b-9b40b7bb3ddb"
      },
      "execution_count": null,
      "outputs": [
        {
          "output_type": "display_data",
          "data": {
            "text/plain": [
              "<Figure size 432x288 with 1 Axes>"
            ],
            "image/png": "[encoded data removed]"
          },
          "metadata": {
            "needs_background": "light"
          }
        },
        {
          "output_type": "stream",
          "name": "stdout",
          "text": [
            "The best number of neighbors is  5\n"
          ]
        }
      ]
    },
    {
      "cell_type": "code",
      "source": [
        "# weighted kNN with number of neighbors set to 5\n",
        "dt=neighbors.KNeighborsClassifier(n_neighbors=5, weights='distance')\n",
        "\n",
        "#Training the regression model\n",
        "dt.fit(train_data,train_sln)\n",
        "\n",
        "#Calling predict to generate predictions\n",
        "cancer_pred = dt.predict(test_data)\n",
        "\n",
        "#Calling a metric function to measure performance\n",
        "print(\"Accuracy:\", metrics.accuracy_score(test_sln,cancer_pred))\n",
        "\n",
        "#Displaying a confusion matrix\n",
        "diagnosis_labels= cancer[target].unique()\n",
        "conf_mat = metrics.confusion_matrix(test_sln, cancer_pred, labels=diagnosis_labels)\n",
        "\n",
        "displ = ConfusionMatrixDisplay(confusion_matrix=conf_mat, display_labels=diagnosis_labels)\n",
        "displ.plot()\n",
        "plt.show()\n"
      ],
      "metadata": {
        "colab": {
          "base_uri": "https://localhost:8080/",
          "height": 296
        },
        "id": "S-cH5IfvB_cf",
        "outputId": "292804ef-3526-4b6c-a45e-9466d5c59ec4"
      },
      "execution_count": null,
      "outputs": [
        {
          "output_type": "stream",
          "name": "stdout",
          "text": [
            "Accuracy: 0.9035087719298246\n"
          ]
        },
        {
          "output_type": "display_data",
          "data": {
            "text/plain": [
              "<Figure size 432x288 with 2 Axes>"
            ],
            "image/png": "[encoded data removed]"
          },
          "metadata": {
            "needs_background": "light"
          }
        }
      ]
    },
    {
      "cell_type": "markdown",
      "source": [
        "###Normalized Weighted k-NN"
      ],
      "metadata": {
        "id": "_iy9JBwAQr7t"
      }
    },
    {
      "cell_type": "code",
      "source": [
        "from sklearn import preprocessing\n",
        "\n",
        "#Normalizing the data\n",
        "scaler=preprocessing.StandardScaler()\n",
        "\n",
        "scaler.fit(train_data)\n",
        "train_data_normalized = scaler.transform(train_data)\n",
        "test_data_normalized = scaler.transform(test_data)\n",
        "\n",
        "# weighted kNN with number of neighbors set to 5\n",
        "dt=neighbors.KNeighborsClassifier(n_neighbors=5, weights='distance')\n",
        "\n",
        "#Training the regression model\n",
        "dt.fit(train_data_normalized,train_sln)\n",
        "\n",
        "#Calling predict to generate predictions\n",
        "cancer_pred = dt.predict(test_data_normalized)\n",
        "\n",
        "#Calling an accuracy metric to measure performance\n",
        "print(\"Accuracy:\", metrics.accuracy_score(test_sln,cancer_pred))\n",
        "\n",
        "#Displaying a confusion matrix\n",
        "diagnosis_labels= cancer[target].unique()\n",
        "conf_mat = metrics.confusion_matrix(test_sln, cancer_pred, labels=diagnosis_labels)\n",
        "\n",
        "displ = ConfusionMatrixDisplay(confusion_matrix=conf_mat, display_labels=diagnosis_labels)\n",
        "displ.plot()\n",
        "plt.show()\n"
      ],
      "metadata": {
        "colab": {
          "base_uri": "https://localhost:8080/",
          "height": 296
        },
        "id": "jJjn8DPAQFuw",
        "outputId": "77958fb8-999f-4554-9295-861bed1243bf"
      },
      "execution_count": null,
      "outputs": [
        {
          "output_type": "stream",
          "name": "stdout",
          "text": [
            "Accuracy: 0.9035087719298246\n"
          ]
        },
        {
          "output_type": "display_data",
          "data": {
            "text/plain": [
              "<Figure size 432x288 with 2 Axes>"
            ],
            "image/png": "[encoded data removed]"
          },
          "metadata": {
            "needs_background": "light"
          }
        }
      ]
    },
    {
      "cell_type": "markdown",
      "source": [
        "##Unweighted k-NN Algorithm"
      ],
      "metadata": {
        "id": "H--xvrTLrw7I"
      }
    },
    {
      "cell_type": "code",
      "source": [
        "#unweighted kNN with number of neighbors set to 7\n",
        "dt=neighbors.KNeighborsClassifier(n_neighbors=7)\n",
        "\n",
        "#Training the regression model\n",
        "dt.fit(train_data,train_sln)\n",
        "\n",
        "#Calling predict to generate predictions\n",
        "cancer_pred = dt.predict(test_data)\n",
        "\n",
        "#Calling a metric function to measure performance\n",
        "print(\"Accuracy:\", metrics.accuracy_score(test_sln,cancer_pred))\n",
        "\n",
        "#Displaying a confusion matrix\n",
        "diagnosis_labels= cancer[target].unique()\n",
        "conf_mat = metrics.confusion_matrix(test_sln, cancer_pred, labels=diagnosis_labels)\n",
        "\n",
        "displ = ConfusionMatrixDisplay(confusion_matrix=conf_mat, display_labels=diagnosis_labels)\n",
        "displ.plot()\n",
        "plt.show()\n"
      ],
      "metadata": {
        "colab": {
          "base_uri": "https://localhost:8080/",
          "height": 296
        },
        "id": "HIgbE4EpKrGy",
        "outputId": "bdf81844-7a03-4291-f008-c3b209d88434"
      },
      "execution_count": null,
      "outputs": [
        {
          "output_type": "stream",
          "name": "stdout",
          "text": [
            "Accuracy: 0.8859649122807017\n"
          ]
        },
        {
          "output_type": "display_data",
          "data": {
            "text/plain": [
              "<Figure size 432x288 with 2 Axes>"
            ],
            "image/png": "[encoded data removed]"
          },
          "metadata": {
            "needs_background": "light"
          }
        }
      ]
    },
    {
      "cell_type": "markdown",
      "source": [
        "####Tuning Parameters"
      ],
      "metadata": {
        "id": "2K6b8cUwzyJZ"
      }
    },
    {
      "cell_type": "code",
      "source": [
        "k_list=[]\n",
        "acc_list=[]\n",
        "\n",
        "for i in range(1, 300):\n",
        "  # weighted kNN with number of neighbors set to i\n",
        "  dt=neighbors.KNeighborsClassifier(n_neighbors=i)\n",
        "\n",
        "  #Training the regression model\n",
        "  dt.fit(train_data,train_sln)\n",
        "\n",
        "  #Calling predict to generate predictions\n",
        "  cancer_pred = dt.predict(test_data)\n",
        "\n",
        "  #Calling an accuracy metric to measure performance\n",
        "  acc_list.append(metrics.accuracy_score(test_sln,cancer_pred))\n",
        "  k_list.append(i)"
      ],
      "metadata": {
        "id": "ZoWXWh7gBzvu"
      },
      "execution_count": null,
      "outputs": []
    },
    {
      "cell_type": "code",
      "source": [
        "#graphing the data\n",
        "plt.suptitle('K-Nearest Neighbors and Accuracy',fontsize=18)\n",
        "plt.xlabel('K')\n",
        "plt.ylabel('Accuracy')\n",
        "plt.plot(k_list, acc_list,'ro-')\n",
        "plt.axis([0,100,0, 1])\n",
        "\n",
        "plt.show()\n",
        "print(\"The best number of neighbors is \",acc_list.index(max(acc_list))+1)"
      ],
      "metadata": {
        "colab": {
          "base_uri": "https://localhost:8080/",
          "height": 325
        },
        "id": "7A0eZrSdCCdt",
        "outputId": "7378a10c-b0dd-439f-afe7-1a83562c17ad"
      },
      "execution_count": null,
      "outputs": [
        {
          "output_type": "display_data",
          "data": {
            "text/plain": [
              "<Figure size 432x288 with 1 Axes>"
            ],
            "image/png": "[encoded data removed]"
          },
          "metadata": {
            "needs_background": "light"
          }
        },
        {
          "output_type": "stream",
          "name": "stdout",
          "text": [
            "The best number of neighbors is  16\n"
          ]
        }
      ]
    },
    {
      "cell_type": "code",
      "source": [
        "#unweighted kNN with number of neighbors set to 16\n",
        "dt=neighbors.KNeighborsClassifier(n_neighbors=16)\n",
        "\n",
        "#Training the regression model\n",
        "dt.fit(train_data,train_sln)\n",
        "\n",
        "#Calling predict to generate predictions\n",
        "cancer_pred = dt.predict(test_data)\n",
        "\n",
        "#Calling a metric function to measure performance\n",
        "print(\"Accuracy:\", metrics.accuracy_score(test_sln,cancer_pred))\n",
        "\n",
        "#Displaying a confusion matrix\n",
        "diagnosis_labels= cancer[target].unique()\n",
        "conf_mat = metrics.confusion_matrix(test_sln, cancer_pred, labels=diagnosis_labels)\n",
        "\n",
        "displ = ConfusionMatrixDisplay(confusion_matrix=conf_mat, display_labels=diagnosis_labels)\n",
        "displ.plot()\n",
        "plt.show()\n"
      ],
      "metadata": {
        "colab": {
          "base_uri": "https://localhost:8080/",
          "height": 296
        },
        "id": "yIkkB_zWCXMi",
        "outputId": "74e8738b-e68a-4b31-81d2-14b6dac1aa79"
      },
      "execution_count": null,
      "outputs": [
        {
          "output_type": "stream",
          "name": "stdout",
          "text": [
            "Accuracy: 0.9122807017543859\n"
          ]
        },
        {
          "output_type": "display_data",
          "data": {
            "text/plain": [
              "<Figure size 432x288 with 2 Axes>"
            ],
            "image/png": "[encoded data removed]"
          },
          "metadata": {
            "needs_background": "light"
          }
        }
      ]
    },
    {
      "cell_type": "markdown",
      "source": [
        "####Normalized unweighted kNN"
      ],
      "metadata": {
        "id": "0kZpji0EGv4n"
      }
    },
    {
      "cell_type": "code",
      "source": [
        "from sklearn import preprocessing\n",
        "\n",
        "#Normalizing the data\n",
        "scaler=StandardScaler()\n",
        "\n",
        "scaler.fit(train_data)\n",
        "train_data_normalized = scaler.transform(train_data)\n",
        "test_data_normalized = scaler.transform(test_data)\n",
        "\n",
        "# unweighted kNN with number of neighbors set to 16\n",
        "dt=neighbors.KNeighborsClassifier(n_neighbors=16)\n",
        "\n",
        "#Training the regression model\n",
        "dt.fit(train_data_normalized,train_sln)\n",
        "\n",
        "#Calling predict to generate predictions\n",
        "cancer_pred = dt.predict(test_data_normalized)\n",
        "\n",
        "#Calling an accuracy metric to measure performance\n",
        "print(\"Accuracy:\", metrics.accuracy_score(test_sln,cancer_pred))\n",
        "\n",
        "#Displaying a confusion matrix\n",
        "diagnosis_labels= cancer[target].unique()\n",
        "conf_mat = metrics.confusion_matrix(test_sln, cancer_pred, labels=diagnosis_labels)\n",
        "\n",
        "displ = ConfusionMatrixDisplay(confusion_matrix=conf_mat, display_labels=diagnosis_labels)\n",
        "displ.plot()\n",
        "plt.show()\n"
      ],
      "metadata": {
        "id": "-nuaxC-dG0dH",
        "colab": {
          "base_uri": "https://localhost:8080/",
          "height": 296
        },
        "outputId": "edfd4796-967f-4321-a0a7-c8efc5e37004"
      },
      "execution_count": null,
      "outputs": [
        {
          "output_type": "stream",
          "name": "stdout",
          "text": [
            "Accuracy: 0.9035087719298246\n"
          ]
        },
        {
          "output_type": "display_data",
          "data": {
            "text/plain": [
              "<Figure size 432x288 with 2 Axes>"
            ],
            "image/png": "[encoded data removed]"
          },
          "metadata": {
            "needs_background": "light"
          }
        }
      ]
    },
    {
      "cell_type": "markdown",
      "source": [
        "##Decision Tree Algorithm"
      ],
      "metadata": {
        "id": "F7wvNfpErtYP"
      }
    },
    {
      "cell_type": "code",
      "source": [
        "# Decision tree with a maximum depth of 5\n",
        "dt=tree.DecisionTreeClassifier(max_depth=5)\n",
        "\n",
        "#Training the regression model\n",
        "dt.fit(train_data,train_sln)\n",
        "\n",
        "#Calling predict to generate predictions\n",
        "cancer_pred = dt.predict(test_data)\n",
        "\n",
        "#Calling a metric function to measure performance\n",
        "print(\"Accuracy:\", metrics.accuracy_score(test_sln,cancer_pred))\n",
        "\n",
        "#Displaying a confusion matrix\n",
        "diagnosis_labels= cancer[target].unique()\n",
        "conf_mat = metrics.confusion_matrix(test_sln, cancer_pred, labels=diagnosis_labels)\n",
        "\n",
        "displ = ConfusionMatrixDisplay(confusion_matrix=conf_mat, display_labels=diagnosis_labels)\n",
        "displ.plot()\n",
        "plt.show()\n"
      ],
      "metadata": {
        "colab": {
          "base_uri": "https://localhost:8080/",
          "height": 300
        },
        "id": "MVvW6dw5CWWU",
        "outputId": "273663b4-d959-435c-88fd-bf3c827eb139"
      },
      "execution_count": null,
      "outputs": [
        {
          "output_type": "stream",
          "name": "stdout",
          "text": [
            "Accuracy: 0.9298245614035088\n"
          ]
        },
        {
          "output_type": "display_data",
          "data": {
            "text/plain": [
              "<Figure size 432x288 with 2 Axes>"
            ],
            "image/png": "[encoded data removed]"
          },
          "metadata": {
            "needs_background": "light"
          }
        }
      ]
    },
    {
      "cell_type": "markdown",
      "source": [
        "Tuning parameters"
      ],
      "metadata": {
        "id": "CxrztNiEIPv7"
      }
    },
    {
      "cell_type": "code",
      "source": [
        "depth_list=[]\n",
        "acc_list=[]\n",
        "\n",
        "for i in range(1, 300):\n",
        "  # decision tree classifier with max depth set to i\n",
        "  dt=tree.DecisionTreeClassifier(max_depth=i)\n",
        "\n",
        "  #Training the regression model\n",
        "  dt.fit(train_data,train_sln)\n",
        "\n",
        "  #Calling predict to generate predictions\n",
        "  cancer_pred = dt.predict(test_data)\n",
        "\n",
        "  #Calling an accuracy metric to measure performance\n",
        "  acc_list.append(metrics.accuracy_score(test_sln,cancer_pred))\n",
        "  depth_list.append(i)"
      ],
      "metadata": {
        "id": "99lkHonQHdUf"
      },
      "execution_count": null,
      "outputs": []
    },
    {
      "cell_type": "code",
      "source": [
        "#graphing the data\n",
        "plt.suptitle('Max Depth and Accuracy',fontsize=18)\n",
        "plt.xlabel('Max Depth')\n",
        "plt.ylabel('Accuracy')\n",
        "plt.plot(k_list, acc_list,'ro-')\n",
        "plt.axis([0,100,0, 1])\n",
        "\n",
        "plt.show()\n",
        "print(\"The best depth is \",acc_list.index(max(acc_list))+1)"
      ],
      "metadata": {
        "colab": {
          "base_uri": "https://localhost:8080/",
          "height": 325
        },
        "id": "NBfaON31Hpry",
        "outputId": "aedd6800-0fc4-4d13-f378-1ac24d9dcac6"
      },
      "execution_count": null,
      "outputs": [
        {
          "output_type": "display_data",
          "data": {
            "text/plain": [
              "<Figure size 432x288 with 1 Axes>"
            ],
            "image/png": "[encoded data removed]"
          },
          "metadata": {
            "needs_background": "light"
          }
        },
        {
          "output_type": "stream",
          "name": "stdout",
          "text": [
            "The best depth is  3\n"
          ]
        }
      ]
    },
    {
      "cell_type": "code",
      "source": [
        "# Decision tree with a maximum depth of 3\n",
        "dt=tree.DecisionTreeClassifier(max_depth=3)\n",
        "\n",
        "#Training the regression model\n",
        "dt.fit(train_data,train_sln)\n",
        "\n",
        "#Calling predict to generate predictions\n",
        "cancer_pred = dt.predict(test_data)\n",
        "\n",
        "#Calling a metric function to measure performance\n",
        "print(\"Accuracy:\", metrics.accuracy_score(test_sln,cancer_pred))\n",
        "\n",
        "#Displaying a confusion matrix\n",
        "diagnosis_labels= cancer[target].unique()\n",
        "conf_mat = metrics.confusion_matrix(test_sln, cancer_pred, labels=diagnosis_labels)\n",
        "\n",
        "displ = ConfusionMatrixDisplay(confusion_matrix=conf_mat, display_labels=diagnosis_labels)\n",
        "displ.plot()\n",
        "plt.show()\n"
      ],
      "metadata": {
        "colab": {
          "base_uri": "https://localhost:8080/",
          "height": 296
        },
        "id": "lmQSnC4MHyaC",
        "outputId": "00669d6a-36fa-40df-9745-817be7a3a9fd"
      },
      "execution_count": null,
      "outputs": [
        {
          "output_type": "stream",
          "name": "stdout",
          "text": [
            "Accuracy: 0.9385964912280702\n"
          ]
        },
        {
          "output_type": "display_data",
          "data": {
            "text/plain": [
              "<Figure size 432x288 with 2 Axes>"
            ],
            "image/png": "[encoded data removed]"
          },
          "metadata": {
            "needs_background": "light"
          }
        }
      ]
    },
    {
      "cell_type": "markdown",
      "source": [
        "####Normalized Decision Tree"
      ],
      "metadata": {
        "id": "NsNq_pRkIS2x"
      }
    },
    {
      "cell_type": "code",
      "source": [
        "from sklearn import preprocessing\n",
        "\n",
        "#Normalizing the data\n",
        "scaler=StandardScaler()\n",
        "\n",
        "scaler.fit(train_data)\n",
        "train_data_normalized = scaler.transform(train_data)\n",
        "test_data_normalized = scaler.transform(test_data)\n",
        "\n",
        "# Decision tree with a maximum depth of 3\n",
        "dt=tree.DecisionTreeClassifier(max_depth=3)\n",
        "\n",
        "#Training the regression model\n",
        "dt.fit(train_data_normalized,train_sln)\n",
        "\n",
        "#Calling predict to generate predictions\n",
        "cancer_pred = dt.predict(test_data_normalized)\n",
        "\n",
        "#Calling an accuracy metric to measure performance\n",
        "print(\"Accuracy:\", metrics.accuracy_score(test_sln,cancer_pred))\n",
        "\n",
        "#Displaying a confusion matrix\n",
        "diagnosis_labels= cancer[target].unique()\n",
        "conf_mat = metrics.confusion_matrix(test_sln, cancer_pred, labels=diagnosis_labels)\n",
        "\n",
        "displ = ConfusionMatrixDisplay(confusion_matrix=conf_mat, display_labels=diagnosis_labels)\n",
        "displ.plot()\n",
        "plt.show()\n"
      ],
      "metadata": {
        "colab": {
          "base_uri": "https://localhost:8080/",
          "height": 296
        },
        "id": "hSIl_XqZIW-w",
        "outputId": "675f9e01-fc14-491b-80d8-5d41a85dd357"
      },
      "execution_count": null,
      "outputs": [
        {
          "output_type": "stream",
          "name": "stdout",
          "text": [
            "Accuracy: 0.9385964912280702\n"
          ]
        },
        {
          "output_type": "display_data",
          "data": {
            "text/plain": [
              "<Figure size 432x288 with 2 Axes>"
            ],
            "image/png": "[encoded data removed]"
          },
          "metadata": {
            "needs_background": "light"
          }
        }
      ]
    },
    {
      "cell_type": "markdown",
      "source": [
        "#4. Analysis\n",
        "\n",
        "What did you discover? What insights/recommendations do you have? What did you find that was interesting? Which model was your best model, which models didn't work well? Why do you think this is? In general, I want a discussion of your experiment, the results, and what they mean.\n",
        "\n",
        "This chart might help organize your results:\n",
        "\n",
        "| **Model**     | **Non-Normalized** | **Normalized** | **Parameter Tuned** |\n",
        "|---------------|--------------------|----------------|---------------------|\n",
        "| kNN           |        88.6%       |        90.4%   |          91.2%      |\n",
        "| w-kNN         |       88.6%        |      90.4%     |       90.4%         |\n",
        "| decision tree |       93.0%        |       93.9%    |         93.9%       |\n",
        "| random forest |        92.9%       |       96.5%    |       94.7%         |"
      ],
      "metadata": {
        "id": "1uWabGe3LCJk"
      }
    },
    {
      "cell_type": "markdown",
      "source": [
        "Through this experiment, I discovered the best and most accurate algorithm for this dataset was the normalized random forest with tuned parameters. This led to the smallest number of false negatives and the highest accuracy rate of 96.7%. I believe this was the case because a certain feature highly predicted the diagnosis. To test this, I  utilized the feature importances table from the random forest algorithm to find the features that strongly predicted the target variable. I found that the most important column in the dataset was the fractal_dimension_worst feature. Due to the problem being classification, I chose to include the top 6 predictors because there were 31 features overall. In addition, I developed insight into tuning parameters and normalizing data because the algorithms always produced more accurate predictions when this was done, so I would recommend always normalizing and tuning parameters in a machine learning experiment. Aside from improving accuracy, the weighted k Nearest Neighbor algorithm performed the worst. This showed me that distance between the data points is not a vital part of predicting the diagnosis. It was interesting that both of the k Nearest Neighbors algorithms, weighted and unweighted, performed very similarly in terms of accuracy. The non-normalized versions of both had 88.6% accuracy rates, but they differed in accuracy rates when their parameters were tuned. There were also similarities in accuracy between the decision tree and random forest algorithms. This showed me how closely related the algorithms were to each other. "
      ],
      "metadata": {
        "id": "mrYLFfRte-Dj"
      }
    },
    {
      "cell_type": "markdown",
      "source": [
        "# 5. Bumps in the Road\n",
        "What challenges did you encounter? How did you overcome these challenges?\n",
        "\n",
        "One of my challenges in this project occurred when tuning the parameters of each algorithm. After graphing the data, I could estimate the best value for the parameter visually, but I did not have an exact number. To solve this, I applied the max method from pandas on my acc_list, which recorded the accuracy rate for each parameter value. I found the index of the maximum value and added 1 because I began iterating through parameter values beginning at 1 in my loop."
      ],
      "metadata": {
        "id": "8T63R0qFS7VO"
      }
    }
  ]
}